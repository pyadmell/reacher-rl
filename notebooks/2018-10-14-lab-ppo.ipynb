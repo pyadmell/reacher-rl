{
 "cells": [
  {
   "cell_type": "markdown",
   "metadata": {},
   "source": [
    "# Project 2: Continuous Control\n",
    "### Test 2 - PPO model\n",
    "\n",
    "<sub>Uirá Caiado. October 15, 2018<sub>\n",
    "\n",
    "#### Abstract\n",
    "\n",
    "_In this notebook, I will use the Unity ML-Agents environment to train a PPO model for the second project of the [Deep Reinforcement Learning Nanodegree](https://www.udacity.com/course/deep-reinforcement-learning-nanodegree--nd893)._\n"
   ]
  },
  {
   "cell_type": "markdown",
   "metadata": {},
   "source": [
    "## 1. What we are going to test\n",
    "\n",
    "We begin by checking if the necessary packages are presented. If the code cell below returns an error, please check if you have all the packages required in the README of this project."
   ]
  },
  {
   "cell_type": "code",
   "execution_count": 5,
   "metadata": {
    "collapsed": false
   },
   "outputs": [
    {
     "name": "stdout",
     "output_type": "stream",
     "text": [
      "The version_information extension is already loaded. To reload it, use:\n",
      "  %reload_ext version_information\n"
     ]
    },
    {
     "data": {
      "application/json": {
       "Software versions": [
        {
         "module": "Python",
         "version": "3.6.6 64bit [GCC 7.3.0]"
        },
        {
         "module": "IPython",
         "version": "6.5.0"
        },
        {
         "module": "OS",
         "version": "Linux 4.4.0 1069 aws x86_64 with debian stretch sid"
        },
        {
         "module": "numpy",
         "version": "1.15.2"
        },
        {
         "module": "unityagents",
         "version": "(torch 0.4.1 (/home/aind2/anaconda3/envs/drlnd/lib/python3.6/site-packages), Requirement.parse('torch==0.4.0'), {'unityagents'})"
        },
        {
         "module": "torch",
         "version": "0.4.1"
        },
        {
         "module": "matplotlib",
         "version": "2.2.3"
        },
        {
         "module": "pandas",
         "version": "0.23.4"
        },
        {
         "module": "statsmodels",
         "version": "0.9.0"
        }
       ]
      },
      "text/html": [
       "<table><tr><th>Software</th><th>Version</th></tr><tr><td>Python</td><td>3.6.6 64bit [GCC 7.3.0]</td></tr><tr><td>IPython</td><td>6.5.0</td></tr><tr><td>OS</td><td>Linux 4.4.0 1069 aws x86_64 with debian stretch sid</td></tr><tr><td>numpy</td><td>1.15.2</td></tr><tr><td>unityagents</td><td>(torch 0.4.1 (/home/aind2/anaconda3/envs/drlnd/lib/python3.6/site-packages), Requirement.parse('torch==0.4.0'), {'unityagents'})</td></tr><tr><td>torch</td><td>0.4.1</td></tr><tr><td>matplotlib</td><td>2.2.3</td></tr><tr><td>pandas</td><td>0.23.4</td></tr><tr><td>statsmodels</td><td>0.9.0</td></tr><tr><td colspan='2'>Tue Oct 23 01:53:25 2018 UTC</td></tr></table>"
      ],
      "text/latex": [
       "\\begin{tabular}{|l|l|}\\hline\n",
       "{\\bf Software} & {\\bf Version} \\\\ \\hline\\hline\n",
       "Python & 3.6.6 64bit [GCC 7.3.0] \\\\ \\hline\n",
       "IPython & 6.5.0 \\\\ \\hline\n",
       "OS & Linux 4.4.0 1069 aws x86\\_64 with debian stretch sid \\\\ \\hline\n",
       "numpy & 1.15.2 \\\\ \\hline\n",
       "unityagents & (torch 0.4.1 (/home/aind2/anaconda3/envs/drlnd/lib/python3.6/site-packages), Requirement.parse('torch==0.4.0'), \\letteropenbrace{}'unityagents'\\letterclosebrace{}) \\\\ \\hline\n",
       "torch & 0.4.1 \\\\ \\hline\n",
       "matplotlib & 2.2.3 \\\\ \\hline\n",
       "pandas & 0.23.4 \\\\ \\hline\n",
       "statsmodels & 0.9.0 \\\\ \\hline\n",
       "\\hline \\multicolumn{2}{|l|}{Tue Oct 23 01:53:25 2018 UTC} \\\\ \\hline\n",
       "\\end{tabular}\n"
      ],
      "text/plain": [
       "Software versions\n",
       "Python 3.6.6 64bit [GCC 7.3.0]\n",
       "IPython 6.5.0\n",
       "OS Linux 4.4.0 1069 aws x86_64 with debian stretch sid\n",
       "numpy 1.15.2\n",
       "unityagents (torch 0.4.1 (/home/aind2/anaconda3/envs/drlnd/lib/python3.6/site-packages), Requirement.parse('torch==0.4.0'), {'unityagents'})\n",
       "torch 0.4.1\n",
       "matplotlib 2.2.3\n",
       "pandas 0.23.4\n",
       "statsmodels 0.9.0\n",
       "Tue Oct 23 01:53:25 2018 UTC"
      ]
     },
     "execution_count": 5,
     "metadata": {},
     "output_type": "execute_result"
    }
   ],
   "source": [
    "%load_ext version_information\n",
    "%version_information numpy, unityagents, torch, matplotlib, pandas, statsmodels"
   ]
  },
  {
   "cell_type": "markdown",
   "metadata": {},
   "source": [
    "Now, let's define some meta variables to use in this notebook"
   ]
  },
  {
   "cell_type": "code",
   "execution_count": 6,
   "metadata": {
    "collapsed": true
   },
   "outputs": [],
   "source": [
    "import os\n",
    "fig_prefix = 'figures/2018-10-14-'\n",
    "data_prefix = '../data/2018-10-14-'\n",
    "s_currentpath = os.getcwd()"
   ]
  },
  {
   "cell_type": "markdown",
   "metadata": {},
   "source": [
    "Finally, let's import some of the necessary packages for this experiment."
   ]
  },
  {
   "cell_type": "code",
   "execution_count": 7,
   "metadata": {
    "collapsed": false
   },
   "outputs": [],
   "source": [
    "import sys\n",
    "import os\n",
    "import eda\n",
    "sys.path.append(\"../\")  # include the root directory as the main\n",
    "import pandas as pd\n",
    "import numpy as np"
   ]
  },
  {
   "cell_type": "markdown",
   "metadata": {},
   "source": [
    "## 2. Exploring the Environment"
   ]
  },
  {
   "cell_type": "markdown",
   "metadata": {},
   "source": [
    "The environment used for this project is the Reacher environment, from [Unity](https://youtu.be/heVMs3t9qSk). Bellow, we are going to start this environment."
   ]
  },
  {
   "cell_type": "code",
   "execution_count": 12,
   "metadata": {
    "collapsed": true
   },
   "outputs": [],
   "source": [
    "from drlnd import make, PPO, PPO_PARAMS"
   ]
  },
  {
   "cell_type": "code",
   "execution_count": 13,
   "metadata": {
    "collapsed": false
   },
   "outputs": [
    {
     "name": "stderr",
     "output_type": "stream",
     "text": [
      "INFO:unityagents:\n",
      "'Academy' started successfully!\n",
      "Unity Academy name: Academy\n",
      "        Number of Brains: 1\n",
      "        Number of External Brains : 1\n",
      "        Lesson number : 0\n",
      "        Reset Parameters :\n",
      "\t\tgoal_speed -> 1.0\n",
      "\t\tgoal_size -> 5.0\n",
      "Unity brain name: ReacherBrain\n",
      "        Number of Visual Observations (per agent): 0\n",
      "        Vector Observation space type: continuous\n",
      "        Vector Observation space size (per agent): 33\n",
      "        Number of stacked Vector Observation: 1\n",
      "        Vector Action space type: continuous\n",
      "        Vector Action space size (per agent): 4\n",
      "        Vector Action descriptions: , , , \n"
     ]
    }
   ],
   "source": [
    "env = make()"
   ]
  },
  {
   "cell_type": "markdown",
   "metadata": {},
   "source": [
    "Environments contain **_brains_** which are responsible for deciding the actions of their associated agents. Here we check for the brain we will be controlling from Python."
   ]
  },
  {
   "cell_type": "code",
   "execution_count": 14,
   "metadata": {
    "collapsed": true
   },
   "outputs": [],
   "source": [
    "# get the default brain\n",
    "env.brain_name\n",
    "brain = env.brain"
   ]
  },
  {
   "cell_type": "markdown",
   "metadata": {},
   "source": [
    "In this environment, a double-jointed arm can move to target locations. A reward of `+0.1` is provided for each step that the agent's hand is in the goal location. Thus, the goal of your agent is to maintain its position at the target location for as many time steps as possible.\n",
    "\n",
    "The observation space consists of `33` variables corresponding to position, rotation, velocity, and angular velocities of the arm.  Each action is a vector with four numbers, corresponding to torque applicable to two joints.  Every entry in the action vector must be a number between `-1` and `1`.\n",
    "\n",
    "Let's check some information about the environment below."
   ]
  },
  {
   "cell_type": "code",
   "execution_count": 15,
   "metadata": {
    "collapsed": false
   },
   "outputs": [
    {
     "name": "stdout",
     "output_type": "stream",
     "text": [
      "Number of agents: 20\n",
      "Size of each action: 4\n",
      "There are 20 agents. Each observes a state with length: 33\n",
      "The state for the first agent looks like: [ 0.00000000e+00 -4.00000000e+00  0.00000000e+00  1.00000000e+00\n",
      " -0.00000000e+00 -0.00000000e+00 -4.37113883e-08  0.00000000e+00\n",
      "  0.00000000e+00  0.00000000e+00  0.00000000e+00  0.00000000e+00\n",
      "  0.00000000e+00  0.00000000e+00 -1.00000000e+01  0.00000000e+00\n",
      "  1.00000000e+00 -0.00000000e+00 -0.00000000e+00 -4.37113883e-08\n",
      "  0.00000000e+00  0.00000000e+00  0.00000000e+00  0.00000000e+00\n",
      "  0.00000000e+00  0.00000000e+00  5.75471878e+00 -1.00000000e+00\n",
      "  5.55726624e+00  0.00000000e+00  1.00000000e+00  0.00000000e+00\n",
      " -1.68164849e-01]\n"
     ]
    }
   ],
   "source": [
    "# reset the environment\n",
    "states = env.reset()\n",
    "\n",
    "# number of agents\n",
    "print('Number of agents:', env.num_agents)\n",
    "\n",
    "# size of each action\n",
    "print('Size of each action:', env.action_size)\n",
    "\n",
    "# examine the state space \n",
    "state_size = states.shape[1]\n",
    "print('There are {} agents. Each observes a state with length: {}'.format(states.shape[0], state_size))\n",
    "print('The state for the first agent looks like:', states[0])"
   ]
  },
  {
   "cell_type": "markdown",
   "metadata": {},
   "source": [
    "## 3. Training the Agent"
   ]
  },
  {
   "cell_type": "markdown",
   "metadata": {},
   "source": [
    "Let's use the Python API to control the agent and receive feedback from the environment.The idea is to make the agent use its experience to gradually choose better actions when interacting with the environment. First, lest's check the agent's parameters."
   ]
  },
  {
   "cell_type": "code",
   "execution_count": 16,
   "metadata": {
    "collapsed": false
   },
   "outputs": [
    {
     "name": "stdout",
     "output_type": "stream",
     "text": [
      "                                PPO PARAMETERS                                \n",
      "==============================================================================\n",
      "BATCH_SIZE                         62   SGD_EPOCH                            4\n",
      "DISCOUNT                         0.99   LR                              0.0001\n",
      "EPSILON                           0.1   TAU                               0.95\n",
      "BETA                             0.01   GRADIENT_CLIP                        5\n",
      "==============================================================================\n"
     ]
    }
   ],
   "source": [
    "print(PPO_PARAMS)"
   ]
  },
  {
   "cell_type": "markdown",
   "metadata": {},
   "source": [
    "Now, we are going to train the agent for 1000 episodes or until it reaches an average score of 30 over the last 100 episodes and over the 20 agents. "
   ]
  },
  {
   "cell_type": "code",
   "execution_count": 17,
   "metadata": {
    "collapsed": true
   },
   "outputs": [],
   "source": [
    "from collections import deque\n",
    "import pickle\n",
    "import torch\n",
    "from drlnd import Trajectory\n",
    "\n",
    "episodes = 4000\n",
    "rand_seed = 0\n",
    "\n",
    "scores = []\n",
    "scores_std = []\n",
    "scores_avg = []\n",
    "scores_window = deque(maxlen=100)\n",
    "\n",
    "agent = PPO(env.state_size, env.action_size, env.num_agents, rand_seed)"
   ]
  },
  {
   "cell_type": "code",
   "execution_count": null,
   "metadata": {
    "collapsed": false
   },
   "outputs": [
    {
     "name": "stdout",
     "output_type": "stream",
     "text": [
      "\n",
      "NN ARCHITECURES:\n",
      "Actor(\n",
      "  (fc1): Linear(in_features=33, out_features=400, bias=True)\n",
      "  (fc2): Linear(in_features=400, out_features=300, bias=True)\n",
      "  (fc3): Linear(in_features=300, out_features=4, bias=True)\n",
      ")\n",
      "Critic(\n",
      "  (fcs1): Linear(in_features=33, out_features=400, bias=True)\n",
      "  (fc2): Linear(in_features=400, out_features=300, bias=True)\n",
      "  (fc3): Linear(in_features=300, out_features=1, bias=True)\n",
      ")\n",
      "\n",
      "TRAINING:\n",
      "Episode 0\tAverage Score: 0.10\tσ: 0.00\tScore: 0.10\n",
      "Episode 10\tAverage Score: 0.14\tσ: 0.05\tScore: 0.09\n",
      "Episode 30\tAverage Score: 0.15\tσ: 0.05\tScore: 0.16\n",
      "Episode 40\tAverage Score: 0.16\tσ: 0.05\tScore: 0.23\n",
      "Episode 50\tAverage Score: 0.17\tσ: 0.06\tScore: 0.26\n",
      "Episode 60\tAverage Score: 0.18\tσ: 0.06\tScore: 0.28\n",
      "Episode 70\tAverage Score: 0.21\tσ: 0.09\tScore: 0.44\n",
      "Episode 80\tAverage Score: 0.23\tσ: 0.11\tScore: 0.39\n",
      "Episode 90\tAverage Score: 0.25\tσ: 0.12\tScore: 0.43\n",
      "Episode 100\tAverage Score: 0.28\tσ: 0.15\tScore: 0.46\n",
      "Episode 110\tAverage Score: 0.32\tσ: 0.16\tScore: 0.51\n",
      "Episode 120\tAverage Score: 0.37\tσ: 0.18\tScore: 0.66\n",
      "Episode 130\tAverage Score: 0.42\tσ: 0.19\tScore: 0.57\n",
      "Episode 140\tAverage Score: 0.48\tσ: 0.19\tScore: 0.89\n",
      "Episode 150\tAverage Score: 0.54\tσ: 0.19\tScore: 1.01\n",
      "Episode 160\tAverage Score: 0.61\tσ: 0.21\tScore: 1.16\n",
      "Episode 170\tAverage Score: 0.67\tσ: 0.23\tScore: 1.23\n",
      "Episode 180\tAverage Score: 0.76\tσ: 0.27\tScore: 1.40\n",
      "Episode 190\tAverage Score: 0.83\tσ: 0.26\tScore: 1.31\n",
      "Episode 200\tAverage Score: 0.89\tσ: 0.26\tScore: 1.04\n",
      "Episode 210\tAverage Score: 0.95\tσ: 0.25\tScore: 1.00\n",
      "Episode 220\tAverage Score: 1.01\tσ: 0.24\tScore: 1.24\n",
      "Episode 230\tAverage Score: 1.06\tσ: 0.23\tScore: 1.08\n",
      "Episode 240\tAverage Score: 1.12\tσ: 0.21\tScore: 1.52\n",
      "Episode 250\tAverage Score: 1.17\tσ: 0.19\tScore: 1.60\n",
      "Episode 260\tAverage Score: 1.22\tσ: 0.20\tScore: 1.42\n",
      "Episode 270\tAverage Score: 1.26\tσ: 0.19\tScore: 1.58\n",
      "Episode 280\tAverage Score: 1.29\tσ: 0.20\tScore: 1.36\n",
      "Episode 290\tAverage Score: 1.32\tσ: 0.19\tScore: 1.75\n",
      "Episode 300\tAverage Score: 1.36\tσ: 0.19\tScore: 1.30\n",
      "Episode 310\tAverage Score: 1.40\tσ: 0.19\tScore: 1.89\n",
      "Episode 320\tAverage Score: 1.44\tσ: 0.20\tScore: 1.72\n",
      "Episode 330\tAverage Score: 1.48\tσ: 0.20\tScore: 1.69\n",
      "Episode 340\tAverage Score: 1.52\tσ: 0.21\tScore: 1.64\n",
      "Episode 350\tAverage Score: 1.56\tσ: 0.21\tScore: 1.93\n",
      "Episode 360\tAverage Score: 1.58\tσ: 0.21\tScore: 1.66\n",
      "Episode 370\tAverage Score: 1.60\tσ: 0.20\tScore: 1.81\n",
      "Episode 380\tAverage Score: 1.62\tσ: 0.20\tScore: 1.70\n",
      "Episode 390\tAverage Score: 1.64\tσ: 0.19\tScore: 1.82\n",
      "Episode 400\tAverage Score: 1.66\tσ: 0.19\tScore: 1.71\n",
      "Episode 410\tAverage Score: 1.70\tσ: 0.20\tScore: 1.66\n",
      "Episode 420\tAverage Score: 1.71\tσ: 0.19\tScore: 1.66\n",
      "Episode 430\tAverage Score: 1.74\tσ: 0.19\tScore: 1.70\n",
      "Episode 440\tAverage Score: 1.76\tσ: 0.21\tScore: 2.16\n",
      "Episode 450\tAverage Score: 1.78\tσ: 0.20\tScore: 1.57\n",
      "Episode 460\tAverage Score: 1.81\tσ: 0.21\tScore: 2.05\n",
      "Episode 470\tAverage Score: 1.84\tσ: 0.21\tScore: 1.96\n",
      "Episode 480\tAverage Score: 1.85\tσ: 0.21\tScore: 1.90\n",
      "Episode 490\tAverage Score: 1.86\tσ: 0.20\tScore: 2.01\n",
      "Episode 500\tAverage Score: 1.87\tσ: 0.20\tScore: 1.67\n",
      "Episode 510\tAverage Score: 1.87\tσ: 0.20\tScore: 1.73\n",
      "Episode 520\tAverage Score: 1.89\tσ: 0.20\tScore: 1.92\n",
      "Episode 530\tAverage Score: 1.89\tσ: 0.20\tScore: 1.73\n",
      "Episode 540\tAverage Score: 1.89\tσ: 0.19\tScore: 1.89\n",
      "Episode 550\tAverage Score: 1.91\tσ: 0.20\tScore: 2.20\n",
      "Episode 560\tAverage Score: 1.91\tσ: 0.21\tScore: 1.96\n",
      "Episode 570\tAverage Score: 1.92\tσ: 0.22\tScore: 2.00\n",
      "Episode 580\tAverage Score: 1.95\tσ: 0.21\tScore: 2.14\n",
      "Episode 590\tAverage Score: 1.99\tσ: 0.21\tScore: 2.53\n",
      "Episode 600\tAverage Score: 2.01\tσ: 0.21\tScore: 2.19\n",
      "Episode 610\tAverage Score: 2.05\tσ: 0.22\tScore: 2.41\n",
      "Episode 620\tAverage Score: 2.09\tσ: 0.23\tScore: 2.53\n",
      "Episode 630\tAverage Score: 2.12\tσ: 0.22\tScore: 1.85\n",
      "Episode 640\tAverage Score: 2.16\tσ: 0.22\tScore: 2.10\n",
      "Episode 650\tAverage Score: 2.18\tσ: 0.22\tScore: 2.21\n",
      "Episode 660\tAverage Score: 2.22\tσ: 0.22\tScore: 2.52\n",
      "Episode 670\tAverage Score: 2.24\tσ: 0.21\tScore: 2.31\n",
      "Episode 680\tAverage Score: 2.26\tσ: 0.21\tScore: 2.60\n",
      "Episode 690\tAverage Score: 2.27\tσ: 0.21\tScore: 1.83\n",
      "Episode 700\tAverage Score: 2.29\tσ: 0.21\tScore: 2.01\n",
      "Episode 710\tAverage Score: 2.30\tσ: 0.22\tScore: 2.52\n",
      "Episode 720\tAverage Score: 2.32\tσ: 0.23\tScore: 2.50\n",
      "Episode 730\tAverage Score: 2.35\tσ: 0.22\tScore: 2.46\n",
      "Episode 740\tAverage Score: 2.37\tσ: 0.23\tScore: 2.60\n",
      "Episode 750\tAverage Score: 2.40\tσ: 0.24\tScore: 2.75\n",
      "Episode 760\tAverage Score: 2.43\tσ: 0.24\tScore: 2.59\n",
      "Episode 780\tAverage Score: 2.51\tσ: 0.26\tScore: 2.51\n",
      "Episode 790\tAverage Score: 2.56\tσ: 0.27\tScore: 2.55\n",
      "Episode 800\tAverage Score: 2.60\tσ: 0.26\tScore: 2.47\n",
      "Episode 810\tAverage Score: 2.63\tσ: 0.26\tScore: 2.16\n",
      "Episode 820\tAverage Score: 2.66\tσ: 0.26\tScore: 2.72\n",
      "Episode 830\tAverage Score: 2.69\tσ: 0.27\tScore: 2.55\n",
      "Episode 840\tAverage Score: 2.72\tσ: 0.27\tScore: 3.02\n",
      "Episode 850\tAverage Score: 2.76\tσ: 0.28\tScore: 3.31\n",
      "Episode 860\tAverage Score: 2.79\tσ: 0.28\tScore: 2.70\n",
      "Episode 870\tAverage Score: 2.81\tσ: 0.27\tScore: 3.19\n",
      "Episode 880\tAverage Score: 2.84\tσ: 0.27\tScore: 3.32\n",
      "Episode 890\tAverage Score: 2.87\tσ: 0.27\tScore: 2.98\n",
      "Episode 900\tAverage Score: 2.91\tσ: 0.27\tScore: 2.62\n",
      "Episode 910\tAverage Score: 2.95\tσ: 0.27\tScore: 3.26\n",
      "Episode 920\tAverage Score: 2.98\tσ: 0.28\tScore: 3.02\n",
      "Episode 930\tAverage Score: 3.01\tσ: 0.28\tScore: 3.47\n",
      "Episode 940\tAverage Score: 3.08\tσ: 0.28\tScore: 3.45\n",
      "Episode 950\tAverage Score: 3.12\tσ: 0.31\tScore: 3.96\n",
      "Episode 960\tAverage Score: 3.20\tσ: 0.35\tScore: 3.29\n",
      "Episode 970\tAverage Score: 3.27\tσ: 0.35\tScore: 3.43\n",
      "Episode 980\tAverage Score: 3.35\tσ: 0.36\tScore: 3.78\n",
      "Episode 990\tAverage Score: 3.41\tσ: 0.37\tScore: 3.87\n",
      "Episode 1000\tAverage Score: 3.49\tσ: 0.38\tScore: 3.63\n",
      "Episode 1010\tAverage Score: 3.55\tσ: 0.36\tScore: 3.22\n",
      "Episode 1020\tAverage Score: 3.61\tσ: 0.34\tScore: 3.63\n",
      "Episode 1030\tAverage Score: 3.69\tσ: 0.31\tScore: 3.83\n",
      "Episode 1040\tAverage Score: 3.72\tσ: 0.31\tScore: 3.86\n",
      "Episode 1050\tAverage Score: 3.76\tσ: 0.28\tScore: 3.81\n",
      "Episode 1060\tAverage Score: 3.79\tσ: 0.29\tScore: 3.51\n",
      "Episode 1070\tAverage Score: 3.82\tσ: 0.28\tScore: 4.08\n",
      "Episode 1080\tAverage Score: 3.85\tσ: 0.28\tScore: 3.62\n",
      "Episode 1090\tAverage Score: 3.88\tσ: 0.30\tScore: 4.62\n",
      "Episode 1100\tAverage Score: 3.90\tσ: 0.30\tScore: 3.65\n",
      "Episode 1110\tAverage Score: 3.93\tσ: 0.29\tScore: 4.36\n",
      "Episode 1120\tAverage Score: 3.93\tσ: 0.29\tScore: 3.84\n",
      "Episode 1130\tAverage Score: 3.93\tσ: 0.31\tScore: 3.53\n",
      "Episode 1140\tAverage Score: 3.96\tσ: 0.29\tScore: 4.43\n",
      "Episode 1150\tAverage Score: 3.96\tσ: 0.31\tScore: 3.37\n",
      "Episode 1160\tAverage Score: 3.96\tσ: 0.29\tScore: 4.08\n",
      "Episode 1170\tAverage Score: 3.95\tσ: 0.30\tScore: 4.20\n",
      "Episode 1180\tAverage Score: 3.96\tσ: 0.31\tScore: 4.31\n",
      "Episode 1190\tAverage Score: 3.94\tσ: 0.29\tScore: 3.93\n",
      "Episode 1200\tAverage Score: 3.92\tσ: 0.29\tScore: 4.12\n",
      "Episode 1210\tAverage Score: 3.91\tσ: 0.30\tScore: 3.95\n",
      "Episode 1220\tAverage Score: 3.92\tσ: 0.31\tScore: 3.60\n",
      "Episode 1230\tAverage Score: 3.91\tσ: 0.30\tScore: 3.64\n",
      "Episode 1240\tAverage Score: 3.92\tσ: 0.31\tScore: 4.33\n",
      "Episode 1250\tAverage Score: 3.94\tσ: 0.30\tScore: 4.25\n",
      "Episode 1251\tAverage Score: 3.94\tσ: 0.30\tScore: 3.76"
     ]
    }
   ],
   "source": [
    "%%time\n",
    "from collections import deque\n",
    "import pickle\n",
    "import torch\n",
    "from drlnd import Trajectory\n",
    "\n",
    "episodes = 4000\n",
    "rand_seed = 0\n",
    "\n",
    "scores = []\n",
    "scores_std = []\n",
    "scores_avg = []\n",
    "scores_window = deque(maxlen=100)\n",
    "\n",
    "agent = PPO(env.state_size, env.action_size, env.num_agents, rand_seed)\n",
    "\n",
    "SOLVED = False\n",
    "\n",
    "print('\\nNN ARCHITECURES:')\n",
    "print(agent.policy.actor_body)\n",
    "print(agent.policy.critic_body)\n",
    "\n",
    "print('\\nTRAINING:')\n",
    "na = np.array([x.data for x in PPO_PARAMS]).flatten()\n",
    "d_params = dict([(na[y].strip(), float(na[y+1]))for y in range(0, len(na), 2)])\n",
    "eps = d_params['EPSILON']\n",
    "beta = d_params['BETA']\n",
    "for episode in range(episodes):\n",
    "    states = env.reset()\n",
    "    trject = Trajectory()\n",
    "    for i in range(1000):\n",
    "        actions, log_probs, values = agent.act(states)\n",
    "        # pdb.set_trace()\n",
    "        next_states, rewards, dones = env.step(actions)\n",
    "        trject.add(states, rewards, log_probs, actions, values, dones)\n",
    "        states = next_states\n",
    "        if np.any(dones):\n",
    "            break\n",
    "\n",
    "    agent.step(trject, eps, beta)\n",
    "    eps *= 0.999\n",
    "    beta *= 0.995\n",
    "    \n",
    "    \n",
    "    scores.append(trject.score)\n",
    "    scores_window.append(trject.score)\n",
    "    scores_avg.append(np.mean(scores_window))\n",
    "    scores_std.append(np.std(scores_window))\n",
    "    s_msg = '\\rEpisode {}\\tAverage Score: {:.2f}\\tσ: {:.2f}\\tScore: {:.2f}'\n",
    "    print(s_msg.format(episode, np.mean(scores_window),\n",
    "                       np.std(scores_window), trject.score), end=\"\")\n",
    "    if episode % 10 == 0:\n",
    "        print(s_msg.format(episode, np.mean(scores_window),\n",
    "                           np.std(scores_window), trject.score))\n",
    "    if np.mean(scores_window) >= 30.:\n",
    "        SOLVED = True\n",
    "        s_msg = '\\n\\nEnvironment solved in {:d} episodes!\\tAverage '\n",
    "        s_msg += 'Score: {:.2f}\\tσ: {:.2f}'\n",
    "        print(s_msg.format(episode, np.mean(scores_window),\n",
    "                           np.std(scores_window)))\n",
    "        # save the models\n",
    "        s_aux = '%scheckpoint-%s.%s.pth'\n",
    "        s_policy_path = s_aux % (data_prefix, agent.__name__, 'policy')\n",
    "        torch.save(agent.policy.state_dict(), s_policy_path)\n",
    "        break\n",
    "    \n",
    "# save data to use later\n",
    "if not SOLVED:\n",
    "    s_msg = '\\n\\nEnvironment not solved =/'\n",
    "    print(s_msg.format(episode, np.mean(scores_window),\n",
    "          np.std(scores_window)))\n",
    "print('\\n')\n",
    "d_data = {'episodes': episode,\n",
    "          'scores': scores,\n",
    "          'scores_std': scores_std,\n",
    "          'scores_avg': scores_avg,\n",
    "          'scores_window': scores_window}\n",
    "pickle.dump(d_data, open('%ssim-data-%s.data' % (data_prefix, agent.__name__), 'wb'))"
   ]
  },
  {
   "cell_type": "markdown",
   "metadata": {},
   "source": [
    "## 4. Results"
   ]
  },
  {
   "cell_type": "markdown",
   "metadata": {},
   "source": [
    "The agent using the PPO agent was able to solve the Reacher environment in 309 episodes of 1000 steps, each."
   ]
  },
  {
   "cell_type": "code",
   "execution_count": 18,
   "metadata": {
    "collapsed": false
   },
   "outputs": [
    {
     "name": "stdout",
     "output_type": "stream",
     "text": [
      "Environment solved in 3999 episodes!\tAverage Score: 5.58 +- 0.54\n"
     ]
    }
   ],
   "source": [
    "import pickle\n",
    "\n",
    "d_data = pickle.load(open('%ssim-data-%s.data' % (data_prefix, agent.__name__), 'rb'))\n",
    "s_msg = 'Environment solved in {:d} episodes!\\tAverage Score: {:.2f} +- {:.2f}'\n",
    "print(s_msg.format(d_data['episodes'], np.mean(d_data['scores_window']), np.std(d_data['scores_window'])))"
   ]
  },
  {
   "cell_type": "markdown",
   "metadata": {},
   "source": [
    "Now, let's plot the rewards per episode. In the right panel, we will plot the rolling average score over 100 episodes $\\pm$ its standard deviation, as well as the goal of this project (30+ on average over the last 100 episodes)."
   ]
  },
  {
   "cell_type": "code",
   "execution_count": 20,
   "metadata": {
    "collapsed": false
   },
   "outputs": [
    {
     "data": {
      "image/png": "[encoded data removed]",
      "text/plain": [
       "<Figure size 864x360 with 2 Axes>"
      ]
     },
     "metadata": {},
     "output_type": "display_data"
    }
   ],
   "source": [
    "import matplotlib.pyplot as plt\n",
    "import seaborn as sns\n",
    "import numpy as np\n",
    "\n",
    "%matplotlib inline\n",
    "\n",
    "#recover data\n",
    "na_raw = np.array(d_data['scores'])\n",
    "na_mu = np.array(d_data['scores_avg'])\n",
    "na_sigma = np.array(d_data['scores_std'])\n",
    "\n",
    "# plot the scores\n",
    "f, (ax1, ax2) = plt.subplots(1, 2, figsize=(12, 5), sharex=True, sharey=True)\n",
    "\n",
    "# plot the sores by episode\n",
    "ax1.plot(np.arange(len(na_raw)), na_raw)\n",
    "ax1.set_xlim(0, len(na_raw)+1)\n",
    "ax1.set_ylabel('Score')\n",
    "ax1.set_xlabel('Episode #')\n",
    "ax1.set_title('raw scores')\n",
    "\n",
    "# plot the average of these scores\n",
    "# ax2.axhline(y=30., xmin=0.0, xmax=1.0, color='r', linestyle='--', linewidth=0.7, alpha=0.9)\n",
    "ax2.plot(np.arange(len(na_mu)), na_mu)\n",
    "ax2.fill_between(np.arange(len(na_mu)), na_mu+na_sigma, na_mu-na_sigma, facecolor='gray', alpha=0.1)\n",
    "ax2.set_ylabel('Average Score')\n",
    "ax2.set_xlabel('Episode #')\n",
    "ax2.set_title('learning curve')\n",
    "\n",
    "f.tight_layout()"
   ]
  },
  {
   "cell_type": "code",
   "execution_count": 21,
   "metadata": {
    "collapsed": true
   },
   "outputs": [],
   "source": [
    "f.savefig(fig_prefix + '%s-learning-curve.jpg' % agent.__name__, format='jpg')"
   ]
  },
  {
   "cell_type": "code",
   "execution_count": 22,
   "metadata": {
    "collapsed": true
   },
   "outputs": [],
   "source": [
    "env.close()"
   ]
  },
  {
   "cell_type": "markdown",
   "metadata": {},
   "source": [
    "## 5. Conclusion"
   ]
  },
  {
   "cell_type": "markdown",
   "metadata": {},
   "source": [
    "The PPO agent was not able to solve the environment."
   ]
  }
 ],
 "metadata": {
  "kernel_info": {
   "name": "drlnd"
  },
  "kernelspec": {
   "display_name": "drlnd",
   "language": "python",
   "name": "drlnd"
  },
  "language_info": {
   "codemirror_mode": {
    "name": "ipython",
    "version": 3
   },
   "file_extension": ".py",
   "mimetype": "text/x-python",
   "name": "python",
   "nbconvert_exporter": "python",
   "pygments_lexer": "ipython3",
   "version": "3.6.6"
  },
  "nteract": {
   "version": "0.11.9"
  }
 },
 "nbformat": 4,
 "nbformat_minor": 2
}
